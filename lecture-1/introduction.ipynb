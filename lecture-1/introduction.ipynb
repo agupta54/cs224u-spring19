{
 "cells": [
  {
   "cell_type": "code",
   "execution_count": 1,
   "metadata": {},
   "outputs": [],
   "source": [
    "import time \n",
    "import pandas as pd \n",
    "import matplotlib.pyplot as plt \n",
    "import numpy as np"
   ]
  },
  {
   "cell_type": "code",
   "execution_count": 2,
   "metadata": {},
   "outputs": [
    {
     "name": "stdout",
     "output_type": "stream",
     "text": [
      "cats\n"
     ]
    },
    {
     "data": {
      "text/plain": [
       "'cheese'"
      ]
     },
     "execution_count": 2,
     "metadata": {},
     "output_type": "execute_result"
    }
   ],
   "source": [
    "print(\"cats\")\n",
    "# run this cell and notice how both strings appear as outputs\n",
    "\"cheese\""
   ]
  },
  {
   "cell_type": "code",
   "execution_count": 3,
   "metadata": {},
   "outputs": [
    {
     "name": "stdout",
     "output_type": "stream",
     "text": [
      "cats\n",
      "cats\n",
      "cats\n",
      "cats\n",
      "cats\n",
      "cats\n",
      "cats\n",
      "cats\n",
      "cats\n",
      "cats\n",
      "cats\n",
      "cats\n",
      "cats\n",
      "cats\n",
      "cats\n",
      "cats\n",
      "cats\n",
      "cats\n",
      "cats\n",
      "cats\n",
      "cats\n",
      "cats\n",
      "cats\n",
      "cats\n",
      "cats\n",
      "cats\n",
      "cats\n",
      "cats\n",
      "cats\n",
      "cats\n",
      "cats\n",
      "cats\n",
      "cats\n",
      "cats\n",
      "cats\n",
      "cats\n",
      "cats\n",
      "cats\n",
      "cats\n",
      "cats\n",
      "cats\n",
      "cats\n",
      "cats\n",
      "cats\n",
      "cats\n",
      "cats\n",
      "cats\n",
      "cats\n",
      "cats\n",
      "cats\n",
      "cats\n",
      "cats\n",
      "cats\n",
      "cats\n",
      "cats\n",
      "cats\n",
      "cats\n",
      "cats\n",
      "cats\n",
      "cats\n",
      "cats\n",
      "cats\n",
      "cats\n",
      "cats\n",
      "cats\n",
      "cats\n",
      "cats\n",
      "cats\n",
      "cats\n",
      "cats\n",
      "cats\n",
      "cats\n",
      "cats\n",
      "cats\n",
      "cats\n",
      "cats\n",
      "cats\n",
      "cats\n",
      "cats\n",
      "cats\n",
      "cats\n",
      "cats\n",
      "cats\n",
      "cats\n",
      "cats\n",
      "cats\n",
      "cats\n",
      "cats\n",
      "cats\n",
      "cats\n",
      "cats\n",
      "cats\n",
      "cats\n",
      "cats\n",
      "cats\n",
      "cats\n",
      "cats\n",
      "cats\n",
      "cats\n",
      "cats\n"
     ]
    }
   ],
   "source": [
    "# cut/copy and paste this cell\n",
    "# move this cell up and down\n",
    "# run this cell\n",
    "# toggle the output\n",
    "# toggle scrolling to make long output smaller\n",
    "# clear the output\n",
    "for i in range(100): \n",
    "    print(\"cats\")"
   ]
  },
  {
   "cell_type": "code",
   "execution_count": 4,
   "metadata": {},
   "outputs": [
    {
     "name": "stdout",
     "output_type": "stream",
     "text": [
      "cats\n",
      "cats\n",
      "cats\n",
      "cats\n",
      "cats\n",
      "cats\n",
      "cats\n",
      "cats\n",
      "cats\n",
      "cats\n"
     ]
    }
   ],
   "source": [
    "# run this cell and stop before it finishes\n",
    "# stop acts like a KeyboardInterrupt\n",
    "for i in range(10): \n",
    "    time.sleep(1) # make loop run slowly\n",
    "    print(\"cats\")"
   ]
  },
  {
   "cell_type": "code",
   "execution_count": 5,
   "metadata": {},
   "outputs": [],
   "source": [
    "# running this cell leads to no output\n",
    "def function1(): \n",
    "    print(\"dogs\")\n",
    "\n",
    "# put cursor in front of this comment and split and merge this cell.\n",
    "def function2(): \n",
    "    print(\"cheese\")"
   ]
  },
  {
   "cell_type": "code",
   "execution_count": 6,
   "metadata": {},
   "outputs": [
    {
     "name": "stdout",
     "output_type": "stream",
     "text": [
      "dogs\n",
      "cheese\n"
     ]
    }
   ],
   "source": [
    "function1()\n",
    "function2()"
   ]
  },
  {
   "cell_type": "code",
   "execution_count": 7,
   "metadata": {},
   "outputs": [],
   "source": [
    "a = []"
   ]
  },
  {
   "cell_type": "code",
   "execution_count": 8,
   "metadata": {},
   "outputs": [],
   "source": [
    "a.append('pineapple')"
   ]
  },
  {
   "cell_type": "code",
   "execution_count": 9,
   "metadata": {},
   "outputs": [],
   "source": [
    "a.append('cake')"
   ]
  },
  {
   "cell_type": "code",
   "execution_count": 10,
   "metadata": {},
   "outputs": [
    {
     "data": {
      "text/plain": [
       "['pineapple', 'cake']"
      ]
     },
     "execution_count": 10,
     "metadata": {},
     "output_type": "execute_result"
    }
   ],
   "source": [
    "a"
   ]
  },
  {
   "cell_type": "code",
   "execution_count": 11,
   "metadata": {},
   "outputs": [
    {
     "data": {
      "text/html": [
       "<div>\n",
       "<style scoped>\n",
       "    .dataframe tbody tr th:only-of-type {\n",
       "        vertical-align: middle;\n",
       "    }\n",
       "\n",
       "    .dataframe tbody tr th {\n",
       "        vertical-align: top;\n",
       "    }\n",
       "\n",
       "    .dataframe thead th {\n",
       "        text-align: right;\n",
       "    }\n",
       "</style>\n",
       "<table border=\"1\" class=\"dataframe\">\n",
       "  <thead>\n",
       "    <tr style=\"text-align: right;\">\n",
       "      <th></th>\n",
       "      <th>ingredient</th>\n",
       "      <th># of cups</th>\n",
       "      <th>purchase date</th>\n",
       "    </tr>\n",
       "  </thead>\n",
       "  <tbody>\n",
       "    <tr>\n",
       "      <th>0</th>\n",
       "      <td>flour</td>\n",
       "      <td>3</td>\n",
       "      <td>April 1</td>\n",
       "    </tr>\n",
       "    <tr>\n",
       "      <th>1</th>\n",
       "      <td>sugar</td>\n",
       "      <td>4</td>\n",
       "      <td>April 4</td>\n",
       "    </tr>\n",
       "  </tbody>\n",
       "</table>\n",
       "</div>"
      ],
      "text/plain": [
       "  ingredient  # of cups purchase date\n",
       "0      flour          3       April 1\n",
       "1      sugar          4       April 4"
      ]
     },
     "execution_count": 11,
     "metadata": {},
     "output_type": "execute_result"
    }
   ],
   "source": [
    "# dataframe example\n",
    "d = {'ingredient': ['flour', 'sugar'], '# of cups': [3, 4], 'purchase date': ['April 1', 'April 4']}\n",
    "df = pd.DataFrame(data=d)\n",
    "df"
   ]
  },
  {
   "cell_type": "code",
   "execution_count": 12,
   "metadata": {},
   "outputs": [
    {
     "data": {
      "image/png": "[encoded data removed]",
      "text/plain": [
       "<Figure size 432x288 with 1 Axes>"
      ]
     },
     "metadata": {
      "needs_background": "light"
     },
     "output_type": "display_data"
    }
   ],
   "source": [
    "# plot example\n",
    "plt.title(\"pineapple locations\")\n",
    "plt.ylabel('latitude')\n",
    "plt.xlabel('longitude')\n",
    "_ = plt.scatter(np.random.randn(5), np.random.randn(5))"
   ]
  },
  {
   "cell_type": "code",
   "execution_count": 13,
   "metadata": {},
   "outputs": [
    {
     "name": "stdout",
     "output_type": "stream",
     "text": [
      "jelly beans\n",
      "jelly beans\n",
      "jelly beans\n",
      "jelly beans\n",
      "jelly beans\n",
      "jelly beans\n",
      "jelly beans\n",
      "jelly beans\n",
      "jelly beans\n",
      "jelly beans\n"
     ]
    }
   ],
   "source": [
    "for i in range(10): \n",
    "    print(\"jelly beans\")"
   ]
  },
  {
   "cell_type": "code",
   "execution_count": null,
   "metadata": {},
   "outputs": [],
   "source": []
  }
 ],
 "metadata": {
  "kernelspec": {
   "display_name": "Python 3",
   "language": "python",
   "name": "python3"
  },
  "language_info": {
   "codemirror_mode": {
    "name": "ipython",
    "version": 3
   },
   "file_extension": ".py",
   "mimetype": "text/x-python",
   "name": "python",
   "nbconvert_exporter": "python",
   "pygments_lexer": "ipython3",
   "version": "3.8.3"
  }
 },
 "nbformat": 4,
 "nbformat_minor": 4
}
