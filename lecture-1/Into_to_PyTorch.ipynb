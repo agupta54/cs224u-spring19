{
 "cells": [
  {
   "cell_type": "code",
   "execution_count": 1,
   "metadata": {},
   "outputs": [],
   "source": [
    "import torch"
   ]
  },
  {
   "cell_type": "code",
   "execution_count": 2,
   "metadata": {},
   "outputs": [
    {
     "name": "stdout",
     "output_type": "stream",
     "text": [
      "PyTorch version 1.8.1+cu102\n",
      "GPU-enabled installation? True\n"
     ]
    }
   ],
   "source": [
    "print(\"PyTorch version {}\".format(torch.__version__))\n",
    "print(\"GPU-enabled installation? {}\".format(torch.cuda.is_available()))"
   ]
  },
  {
   "cell_type": "code",
   "execution_count": 3,
   "metadata": {},
   "outputs": [],
   "source": [
    "import numpy as np"
   ]
  },
  {
   "cell_type": "code",
   "execution_count": 4,
   "metadata": {},
   "outputs": [
    {
     "name": "stdout",
     "output_type": "stream",
     "text": [
      "tensor([[0., 0., 0.],\n",
      "        [0., 0., 0.]]) torch.Size([2, 3])\n"
     ]
    }
   ],
   "source": [
    "t = torch.FloatTensor(2,3)\n",
    "print(t, t.size())"
   ]
  },
  {
   "cell_type": "code",
   "execution_count": 5,
   "metadata": {},
   "outputs": [
    {
     "data": {
      "text/plain": [
       "tensor([[0., 0., 0.],\n",
       "        [0., 0., 0.]])"
      ]
     },
     "execution_count": 5,
     "metadata": {},
     "output_type": "execute_result"
    }
   ],
   "source": [
    "t.zero_()"
   ]
  },
  {
   "cell_type": "code",
   "execution_count": 6,
   "metadata": {},
   "outputs": [
    {
     "data": {
      "text/plain": [
       "tensor([[1., 2., 3.],\n",
       "        [4., 5., 6.]])"
      ]
     },
     "execution_count": 6,
     "metadata": {},
     "output_type": "execute_result"
    }
   ],
   "source": [
    "torch.FloatTensor([[1,2,3], [4,5,6]])"
   ]
  },
  {
   "cell_type": "code",
   "execution_count": 8,
   "metadata": {},
   "outputs": [
    {
     "name": "stdout",
     "output_type": "stream",
     "text": [
      "A 64-bit integer tensor tensor([1, 2, 3]), torch.LongTensor\n",
      "A 32-bit float tensor tensor([1., 2., 3.]), torch.FloatTensor\n"
     ]
    }
   ],
   "source": [
    "tl = torch.tensor([1,2,3])\n",
    "t = torch.tensor([1., 2., 3.])\n",
    "print(f\"A 64-bit integer tensor {tl}, {tl.type()}\")\n",
    "print(f\"A 32-bit float tensor {t}, {t.type()}\")"
   ]
  },
  {
   "cell_type": "code",
   "execution_count": 9,
   "metadata": {},
   "outputs": [
    {
     "name": "stdout",
     "output_type": "stream",
     "text": [
      "tensor([[0., 0., 0.],\n",
      "        [0., 0., 0.]])\n"
     ]
    }
   ],
   "source": [
    "t = torch.zeros(2,3)\n",
    "print(t)"
   ]
  },
  {
   "cell_type": "code",
   "execution_count": 10,
   "metadata": {},
   "outputs": [
    {
     "name": "stdout",
     "output_type": "stream",
     "text": [
      "tensor([[0., 0., 0.],\n",
      "        [0., 0., 0.]])\n",
      "tensor([[1., 1., 1.],\n",
      "        [1., 1., 1.]])\n",
      "tensor([[5., 5., 5.],\n",
      "        [5., 5., 5.]])\n",
      "tensor([[0.3726, 0.0939, 0.3612],\n",
      "        [0.0153, 0.2063, 0.2741]])\n",
      "tensor([[ 0.6114, -0.2654,  1.4462],\n",
      "        [-1.7033, -0.4660,  0.4819]])\n"
     ]
    }
   ],
   "source": [
    "t_zeros = torch.zeros_like(t)\n",
    "t_ones = torch.ones(2,3)\n",
    "t_fives = torch.empty(2,3).fill_(5)\n",
    "t_random = torch.rand(2,3)\n",
    "t_normal = torch.randn(2,3)\n",
    "\n",
    "print(t_zeros)\n",
    "print(t_ones)\n",
    "print(t_fives)\n",
    "print(t_random)\n",
    "print(t_normal)"
   ]
  },
  {
   "cell_type": "code",
   "execution_count": 14,
   "metadata": {},
   "outputs": [
    {
     "data": {
      "text/plain": [
       "tensor([[0., 0., 0.],\n",
       "        [0., 0., 0.]])"
      ]
     },
     "execution_count": 14,
     "metadata": {},
     "output_type": "execute_result"
    }
   ],
   "source": [
    "t1 = torch.clone(t)\n",
    "assert id(t) != id(t1)\n",
    "t1 = torch.clone(t).detach()\n",
    "t1"
   ]
  },
  {
   "cell_type": "code",
   "execution_count": 15,
   "metadata": {},
   "outputs": [
    {
     "name": "stdout",
     "output_type": "stream",
     "text": [
      "NumPy array: [1. 2. 3.], type: float64\n",
      "Torch tensor: tensor([1., 2., 3.], dtype=torch.float64), type: torch.float64\n"
     ]
    }
   ],
   "source": [
    "a = np.array([1., 2., 3.])\n",
    "t = torch.tensor(a)\n",
    "\n",
    "print(\"NumPy array: {}, type: {}\".format(a, a.dtype))\n",
    "print(\"Torch tensor: {}, type: {}\".format(t, t.dtype))"
   ]
  },
  {
   "cell_type": "code",
   "execution_count": 16,
   "metadata": {},
   "outputs": [
    {
     "data": {
      "text/plain": [
       "array([1., 2., 3.])"
      ]
     },
     "execution_count": 16,
     "metadata": {},
     "output_type": "execute_result"
    }
   ],
   "source": [
    "t.numpy()"
   ]
  },
  {
   "cell_type": "markdown",
   "metadata": {},
   "source": [
    "## Indexing"
   ]
  },
  {
   "cell_type": "code",
   "execution_count": 19,
   "metadata": {},
   "outputs": [
    {
     "data": {
      "text/plain": [
       "tensor([ 1.1605, -1.4865])"
      ]
     },
     "execution_count": 19,
     "metadata": {},
     "output_type": "execute_result"
    }
   ],
   "source": [
    "t = torch.randn(2,3)\n",
    "t[:,0]"
   ]
  },
  {
   "cell_type": "code",
   "execution_count": 20,
   "metadata": {},
   "outputs": [
    {
     "name": "stdout",
     "output_type": "stream",
     "text": [
      "tensor([[ 0.2769,  0.8294, -0.6906, -0.2495, -1.5907, -0.0366],\n",
      "        [-0.5929,  1.3712, -1.4938, -1.1266, -0.5346,  0.2572],\n",
      "        [-2.4509, -0.1837, -1.2592,  0.2079,  0.1854, -0.7483],\n",
      "        [ 0.5449, -0.3865,  0.8803, -0.0653, -0.0997, -0.6154],\n",
      "        [ 0.8171, -0.5531,  1.6518, -0.7986, -0.8162, -1.2599]])\n",
      "tensor([[-0.5929,  1.3712, -1.4938, -1.1266, -0.5346,  0.2572],\n",
      "        [ 0.5449, -0.3865,  0.8803, -0.0653, -0.0997, -0.6154]])\n",
      "tensor([-0.5346, -0.6154])\n"
     ]
    }
   ],
   "source": [
    "t = torch.randn(5,6)\n",
    "print(t)\n",
    "i = torch.tensor([1, 3])\n",
    "j = torch.tensor([4, 5])\n",
    "print(t[i])\n",
    "print(t[i, j])"
   ]
  },
  {
   "cell_type": "code",
   "execution_count": 21,
   "metadata": {},
   "outputs": [
    {
     "name": "stdout",
     "output_type": "stream",
     "text": [
      "tensor([[ 0.2769,  0.8294, -0.6906, -0.2495, -1.5907, -0.0366],\n",
      "        [-0.5929,  1.3712, -1.4938, -1.1266, -0.5346,  0.2572],\n",
      "        [-2.4509, -0.1837, -1.2592,  0.2079,  0.1854, -0.7483],\n",
      "        [ 0.5449, -0.3865,  0.8803, -0.0653, -0.0997, -0.6154],\n",
      "        [ 0.8171, -0.5531,  1.6518, -0.7986, -0.8162, -1.2599]])\n",
      "tensor([[ 0.2769,  0.8294, -0.6906, -0.2495, -1.5907, -0.0366],\n",
      "        [-0.5929,  1.3712, -1.4938, -1.1266, -0.5346,  0.2572],\n",
      "        [-2.4509, -0.1837, -1.2592,  0.2079,  0.1854, -0.7483],\n",
      "        [ 0.5449, -0.3865,  0.8803, -0.0653, -0.0997, -0.6154],\n",
      "        [ 0.8171, -0.5531,  1.6518, -0.7986, -0.8162, -1.2599]],\n",
      "       dtype=torch.float64)\n",
      "tensor([[  0,   0,   0,   0, 255,   0],\n",
      "        [  0,   1, 255, 255,   0,   0],\n",
      "        [254,   0, 255,   0,   0,   0],\n",
      "        [  0,   0,   0,   0,   0,   0],\n",
      "        [  0,   0,   1,   0,   0, 255]], dtype=torch.uint8)\n"
     ]
    }
   ],
   "source": [
    "t = t.float()\n",
    "print(t)\n",
    "t = t.double()\n",
    "print(t)\n",
    "t = t.byte()\n",
    "print(t)"
   ]
  },
  {
   "cell_type": "markdown",
   "metadata": {},
   "source": [
    "## Operations on Tensors"
   ]
  },
  {
   "cell_type": "code",
   "execution_count": 22,
   "metadata": {},
   "outputs": [
    {
     "name": "stdout",
     "output_type": "stream",
     "text": [
      "tensor(42)\n"
     ]
    }
   ],
   "source": [
    "s = torch.tensor(42)\n",
    "print(s)"
   ]
  },
  {
   "cell_type": "code",
   "execution_count": 23,
   "metadata": {},
   "outputs": [
    {
     "data": {
      "text/plain": [
       "42"
      ]
     },
     "execution_count": 23,
     "metadata": {},
     "output_type": "execute_result"
    }
   ],
   "source": [
    "s.item()"
   ]
  },
  {
   "cell_type": "code",
   "execution_count": 24,
   "metadata": {},
   "outputs": [
    {
     "name": "stdout",
     "output_type": "stream",
     "text": [
      "Row vector tensor([[ 0.1057, -1.8602,  0.0940]]) with size torch.Size([1, 3])\n"
     ]
    }
   ],
   "source": [
    "x = torch.randn(1,3)\n",
    "print(f\"Row vector {x} with size {x.size()}\")"
   ]
  },
  {
   "cell_type": "code",
   "execution_count": 25,
   "metadata": {},
   "outputs": [
    {
     "name": "stdout",
     "output_type": "stream",
     "text": [
      "Column vector tensor([[-0.1334],\n",
      "        [-0.9996],\n",
      "        [ 1.0774]]) with size torch.Size([3, 1])\n"
     ]
    }
   ],
   "source": [
    "v = torch.randn(3,1)\n",
    "print(f\"Column vector {v} with size {v.size()}\")"
   ]
  },
  {
   "cell_type": "code",
   "execution_count": 26,
   "metadata": {},
   "outputs": [
    {
     "name": "stdout",
     "output_type": "stream",
     "text": [
      "Matrix tensor([[-1.6436,  0.2170, -0.9999],\n",
      "        [-0.9607, -0.7694,  1.3193],\n",
      "        [-0.4314,  2.0441,  0.8031]]) with size torch.Size([3, 3])\n"
     ]
    }
   ],
   "source": [
    "A = torch.randn(3,3)\n",
    "print(f\"Matrix {A} with size {A.size()}\")"
   ]
  },
  {
   "cell_type": "code",
   "execution_count": 27,
   "metadata": {},
   "outputs": [
    {
     "name": "stdout",
     "output_type": "stream",
     "text": [
      "tensor([[-1.0749],\n",
      "        [ 2.3187],\n",
      "        [-1.1205]])\n",
      "tensor([[-2.7198],\n",
      "        [ 3.1664],\n",
      "        [ 1.8595]])\n"
     ]
    }
   ],
   "source": [
    "u = torch.matmul(A,v)\n",
    "print(u)\n",
    "b = torch.randn(3,1)\n",
    "y = u + b\n",
    "print(y)"
   ]
  },
  {
   "cell_type": "code",
   "execution_count": 28,
   "metadata": {},
   "outputs": [
    {
     "name": "stdout",
     "output_type": "stream",
     "text": [
      "-4.5321736335754395\n"
     ]
    }
   ],
   "source": [
    "s = torch.matmul(x, torch.matmul(A, v))\n",
    "print(s.item())"
   ]
  },
  {
   "cell_type": "code",
   "execution_count": 29,
   "metadata": {},
   "outputs": [
    {
     "data": {
      "text/plain": [
       "tensor([[0, 1, 2],\n",
       "        [0, 1, 2]])"
      ]
     },
     "execution_count": 29,
     "metadata": {},
     "output_type": "execute_result"
    }
   ],
   "source": [
    "# common tensor methods (they also have the counterpart in the torch package, e.g. as torch.sum(t))\n",
    "t = torch.randn(2,3)\n",
    "t.sum(dim=0)                 \n",
    "t.t()                   # transpose\n",
    "t.numel()               # number of elements in tensor\n",
    "t.nonzero()             # indices of non-zero elements\n",
    "t.view(-1, 2)           # reorganizes the tensor to these dimensions\n",
    "t.squeeze()             # removes size 1 dimensions\n",
    "t.unsqueeze(0)          # inserts a dimension\n",
    "\n",
    "# operations in the package\n",
    "torch.arange(0, 10)     # tensor([0, 1, 2, 3, 4, 5, 6, 7, 8, 9])\n",
    "torch.eye(3, 3)         # creates a 3x3 matrix with 1s in the diagonal (identity in this case)\n",
    "t = torch.arange(0, 3)\n",
    "torch.cat((t, t))       # tensor([0, 1, 2, 0, 1, 2])\n",
    "torch.stack((t, t))     # tensor([[0, 1, 2],\n",
    "                        #         [0, 1, 2]])"
   ]
  },
  {
   "cell_type": "code",
   "execution_count": 30,
   "metadata": {},
   "outputs": [
    {
     "data": {
      "text/plain": [
       "tensor([[0., 0., 0.],\n",
       "        [0., 0., 0.],\n",
       "        [0., 0., 0.]], device='cuda:0')"
      ]
     },
     "execution_count": 30,
     "metadata": {},
     "output_type": "execute_result"
    }
   ],
   "source": [
    "t_gpu = torch.cuda.FloatTensor(3, 3)   # creation of a GPU tensor\n",
    "t_gpu.zero_() "
   ]
  },
  {
   "cell_type": "code",
   "execution_count": 31,
   "metadata": {},
   "outputs": [
    {
     "data": {
      "text/plain": [
       "tensor([[ 0.2769, -0.3388,  1.2494],\n",
       "        [-1.5946,  1.0681,  1.2013],\n",
       "        [-0.4019, -0.1474, -1.5849]], device='cuda:0')"
      ]
     },
     "execution_count": 31,
     "metadata": {},
     "output_type": "execute_result"
    }
   ],
   "source": [
    "t_gpu = torch.randn(3, 3, device=\"cuda:0\")\n",
    "t_gpu"
   ]
  },
  {
   "cell_type": "code",
   "execution_count": 32,
   "metadata": {},
   "outputs": [
    {
     "data": {
      "text/plain": [
       "tensor([[-0.1897, -1.0534, -0.4645],\n",
       "        [-1.9274, -0.1695,  0.5186],\n",
       "        [ 0.3544,  1.2793,  0.2769]])"
      ]
     },
     "execution_count": 32,
     "metadata": {},
     "output_type": "execute_result"
    }
   ],
   "source": [
    "t = torch.randn(3, 3)   # we could also state explicitly the device to be the CPU with torch.randn(3,3,device=\"cpu\")\n",
    "t"
   ]
  },
  {
   "cell_type": "code",
   "execution_count": null,
   "metadata": {},
   "outputs": [],
   "source": []
  }
 ],
 "metadata": {
  "kernelspec": {
   "display_name": "Python 3",
   "language": "python",
   "name": "python3"
  },
  "language_info": {
   "codemirror_mode": {
    "name": "ipython",
    "version": 3
   },
   "file_extension": ".py",
   "mimetype": "text/x-python",
   "name": "python",
   "nbconvert_exporter": "python",
   "pygments_lexer": "ipython3",
   "version": "3.8.3"
  }
 },
 "nbformat": 4,
 "nbformat_minor": 4
}
